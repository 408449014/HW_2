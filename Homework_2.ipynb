{
  "nbformat": 4,
  "nbformat_minor": 0,
  "metadata": {
    "colab": {
      "provenance": []
    },
    "kernelspec": {
      "name": "python3",
      "display_name": "Python 3"
    },
    "language_info": {
      "name": "python"
    }
  },
  "cells": [
    {
      "cell_type": "code",
      "execution_count": 24,
      "metadata": {
        "id": "soJ5ULgVRqbJ"
      },
      "outputs": [],
      "source": [
        "import numpy as np \n",
        "import pandas as pd \n",
        "from sklearn import preprocessing\n",
        "from sklearn.preprocessing import StandardScaler\n",
        "from sklearn import model_selection\n",
        "from sklearn.linear_model import LinearRegression\n",
        "from sklearn.linear_model import Ridge\n",
        "from sklearn.linear_model import Lasso\n",
        "from sklearn.linear_model import ElasticNet\n",
        "from sklearn.neighbors import KNeighborsRegressor\n",
        "from sklearn.tree import DecisionTreeRegressor\n",
        "from sklearn.ensemble import RandomForestRegressor\n",
        "from sklearn.preprocessing import LabelEncoder\n",
        "from sklearn.preprocessing import StandardScaler\n",
        "from sklearn.model_selection import train_test_split\n",
        "from sklearn.metrics import r2_score\n",
        "from sklearn.metrics import mean_squared_error\n",
        "import scipy.stats as stats \n",
        "from math import sqrt\n",
        "from matplotlib import pyplot as plt \n",
        "from sklearn.model_selection import KFold\n",
        "from sklearn.model_selection import cross_val_score\n",
        "from numpy import mean"
      ]
    },
    {
      "cell_type": "code",
      "source": [
        "from google.colab import drive\n",
        "drive.mount(\"/content/gdrive\")"
      ],
      "metadata": {
        "colab": {
          "base_uri": "https://localhost:8080/"
        },
        "id": "9F9-ynaiR0iA",
        "outputId": "4a93eb04-9c5c-41ad-fcf2-c5608a974e5c"
      },
      "execution_count": 25,
      "outputs": [
        {
          "output_type": "stream",
          "name": "stdout",
          "text": [
            "Drive already mounted at /content/gdrive; to attempt to forcibly remount, call drive.mount(\"/content/gdrive\", force_remount=True).\n"
          ]
        }
      ]
    },
    {
      "cell_type": "code",
      "source": [
        "data = pd.read_csv('/content/gdrive/My Drive/Colab Notebooks/SimpleWeather.csv')"
      ],
      "metadata": {
        "id": "dFY-7_IYSdmV"
      },
      "execution_count": 26,
      "outputs": []
    },
    {
      "cell_type": "code",
      "source": [
        "data.head()"
      ],
      "metadata": {
        "id": "99dbCJd6Sgrb",
        "colab": {
          "base_uri": "https://localhost:8080/",
          "height": 285
        },
        "outputId": "1b5a6a4b-bee1-49d8-dc9a-818eae44fbae"
      },
      "execution_count": 28,
      "outputs": [
        {
          "output_type": "execute_result",
          "data": {
            "text/plain": [
              "   Unnamed: 0  Temperature (C)  Apparent Temperature (C)  Humidity  \\\n",
              "0           0         9.472222                  7.388889      0.89   \n",
              "1           1         9.355556                  7.227778      0.86   \n",
              "2           2         9.377778                  9.377778      0.89   \n",
              "3           3         8.288889                  5.944444      0.83   \n",
              "4           4         8.755556                  6.977778      0.83   \n",
              "\n",
              "   Wind Speed (km/h)  Wind Bearing (degrees)  Visibility (km)  \\\n",
              "0            14.1197                   251.0          15.8263   \n",
              "1            14.2646                   259.0          15.8263   \n",
              "2             3.9284                   204.0          14.9569   \n",
              "3            14.1036                   269.0          15.8263   \n",
              "4            11.0446                   259.0          15.8263   \n",
              "\n",
              "   Pressure (millibars)  \n",
              "0               1015.13  \n",
              "1               1015.63  \n",
              "2               1015.94  \n",
              "3               1016.41  \n",
              "4               1016.51  "
            ],
            "text/html": [
              "\n",
              "  <div id=\"df-681fad37-216d-43ee-ac77-549baffa79e2\">\n",
              "    <div class=\"colab-df-container\">\n",
              "      <div>\n",
              "<style scoped>\n",
              "    .dataframe tbody tr th:only-of-type {\n",
              "        vertical-align: middle;\n",
              "    }\n",
              "\n",
              "    .dataframe tbody tr th {\n",
              "        vertical-align: top;\n",
              "    }\n",
              "\n",
              "    .dataframe thead th {\n",
              "        text-align: right;\n",
              "    }\n",
              "</style>\n",
              "<table border=\"1\" class=\"dataframe\">\n",
              "  <thead>\n",
              "    <tr style=\"text-align: right;\">\n",
              "      <th></th>\n",
              "      <th>Unnamed: 0</th>\n",
              "      <th>Temperature (C)</th>\n",
              "      <th>Apparent Temperature (C)</th>\n",
              "      <th>Humidity</th>\n",
              "      <th>Wind Speed (km/h)</th>\n",
              "      <th>Wind Bearing (degrees)</th>\n",
              "      <th>Visibility (km)</th>\n",
              "      <th>Pressure (millibars)</th>\n",
              "    </tr>\n",
              "  </thead>\n",
              "  <tbody>\n",
              "    <tr>\n",
              "      <th>0</th>\n",
              "      <td>0</td>\n",
              "      <td>9.472222</td>\n",
              "      <td>7.388889</td>\n",
              "      <td>0.89</td>\n",
              "      <td>14.1197</td>\n",
              "      <td>251.0</td>\n",
              "      <td>15.8263</td>\n",
              "      <td>1015.13</td>\n",
              "    </tr>\n",
              "    <tr>\n",
              "      <th>1</th>\n",
              "      <td>1</td>\n",
              "      <td>9.355556</td>\n",
              "      <td>7.227778</td>\n",
              "      <td>0.86</td>\n",
              "      <td>14.2646</td>\n",
              "      <td>259.0</td>\n",
              "      <td>15.8263</td>\n",
              "      <td>1015.63</td>\n",
              "    </tr>\n",
              "    <tr>\n",
              "      <th>2</th>\n",
              "      <td>2</td>\n",
              "      <td>9.377778</td>\n",
              "      <td>9.377778</td>\n",
              "      <td>0.89</td>\n",
              "      <td>3.9284</td>\n",
              "      <td>204.0</td>\n",
              "      <td>14.9569</td>\n",
              "      <td>1015.94</td>\n",
              "    </tr>\n",
              "    <tr>\n",
              "      <th>3</th>\n",
              "      <td>3</td>\n",
              "      <td>8.288889</td>\n",
              "      <td>5.944444</td>\n",
              "      <td>0.83</td>\n",
              "      <td>14.1036</td>\n",
              "      <td>269.0</td>\n",
              "      <td>15.8263</td>\n",
              "      <td>1016.41</td>\n",
              "    </tr>\n",
              "    <tr>\n",
              "      <th>4</th>\n",
              "      <td>4</td>\n",
              "      <td>8.755556</td>\n",
              "      <td>6.977778</td>\n",
              "      <td>0.83</td>\n",
              "      <td>11.0446</td>\n",
              "      <td>259.0</td>\n",
              "      <td>15.8263</td>\n",
              "      <td>1016.51</td>\n",
              "    </tr>\n",
              "  </tbody>\n",
              "</table>\n",
              "</div>\n",
              "      <button class=\"colab-df-convert\" onclick=\"convertToInteractive('df-681fad37-216d-43ee-ac77-549baffa79e2')\"\n",
              "              title=\"Convert this dataframe to an interactive table.\"\n",
              "              style=\"display:none;\">\n",
              "        \n",
              "  <svg xmlns=\"http://www.w3.org/2000/svg\" height=\"24px\"viewBox=\"0 0 24 24\"\n",
              "       width=\"24px\">\n",
              "    <path d=\"M0 0h24v24H0V0z\" fill=\"none\"/>\n",
              "    <path d=\"M18.56 5.44l.94 2.06.94-2.06 2.06-.94-2.06-.94-.94-2.06-.94 2.06-2.06.94zm-11 1L8.5 8.5l.94-2.06 2.06-.94-2.06-.94L8.5 2.5l-.94 2.06-2.06.94zm10 10l.94 2.06.94-2.06 2.06-.94-2.06-.94-.94-2.06-.94 2.06-2.06.94z\"/><path d=\"M17.41 7.96l-1.37-1.37c-.4-.4-.92-.59-1.43-.59-.52 0-1.04.2-1.43.59L10.3 9.45l-7.72 7.72c-.78.78-.78 2.05 0 2.83L4 21.41c.39.39.9.59 1.41.59.51 0 1.02-.2 1.41-.59l7.78-7.78 2.81-2.81c.8-.78.8-2.07 0-2.86zM5.41 20L4 18.59l7.72-7.72 1.47 1.35L5.41 20z\"/>\n",
              "  </svg>\n",
              "      </button>\n",
              "      \n",
              "  <style>\n",
              "    .colab-df-container {\n",
              "      display:flex;\n",
              "      flex-wrap:wrap;\n",
              "      gap: 12px;\n",
              "    }\n",
              "\n",
              "    .colab-df-convert {\n",
              "      background-color: #E8F0FE;\n",
              "      border: none;\n",
              "      border-radius: 50%;\n",
              "      cursor: pointer;\n",
              "      display: none;\n",
              "      fill: #1967D2;\n",
              "      height: 32px;\n",
              "      padding: 0 0 0 0;\n",
              "      width: 32px;\n",
              "    }\n",
              "\n",
              "    .colab-df-convert:hover {\n",
              "      background-color: #E2EBFA;\n",
              "      box-shadow: 0px 1px 2px rgba(60, 64, 67, 0.3), 0px 1px 3px 1px rgba(60, 64, 67, 0.15);\n",
              "      fill: #174EA6;\n",
              "    }\n",
              "\n",
              "    [theme=dark] .colab-df-convert {\n",
              "      background-color: #3B4455;\n",
              "      fill: #D2E3FC;\n",
              "    }\n",
              "\n",
              "    [theme=dark] .colab-df-convert:hover {\n",
              "      background-color: #434B5C;\n",
              "      box-shadow: 0px 1px 3px 1px rgba(0, 0, 0, 0.15);\n",
              "      filter: drop-shadow(0px 1px 2px rgba(0, 0, 0, 0.3));\n",
              "      fill: #FFFFFF;\n",
              "    }\n",
              "  </style>\n",
              "\n",
              "      <script>\n",
              "        const buttonEl =\n",
              "          document.querySelector('#df-681fad37-216d-43ee-ac77-549baffa79e2 button.colab-df-convert');\n",
              "        buttonEl.style.display =\n",
              "          google.colab.kernel.accessAllowed ? 'block' : 'none';\n",
              "\n",
              "        async function convertToInteractive(key) {\n",
              "          const element = document.querySelector('#df-681fad37-216d-43ee-ac77-549baffa79e2');\n",
              "          const dataTable =\n",
              "            await google.colab.kernel.invokeFunction('convertToInteractive',\n",
              "                                                     [key], {});\n",
              "          if (!dataTable) return;\n",
              "\n",
              "          const docLinkHtml = 'Like what you see? Visit the ' +\n",
              "            '<a target=\"_blank\" href=https://colab.research.google.com/notebooks/data_table.ipynb>data table notebook</a>'\n",
              "            + ' to learn more about interactive tables.';\n",
              "          element.innerHTML = '';\n",
              "          dataTable['output_type'] = 'display_data';\n",
              "          await google.colab.output.renderOutput(dataTable, element);\n",
              "          const docLink = document.createElement('div');\n",
              "          docLink.innerHTML = docLinkHtml;\n",
              "          element.appendChild(docLink);\n",
              "        }\n",
              "      </script>\n",
              "    </div>\n",
              "  </div>\n",
              "  "
            ]
          },
          "metadata": {},
          "execution_count": 28
        }
      ]
    },
    {
      "cell_type": "code",
      "source": [
        "y = data[\"Temperature (C)\"]\n",
        "X = data.drop([\"Temperature (C)\"], axis = 1)"
      ],
      "metadata": {
        "id": "cHIFJgxlYC89"
      },
      "execution_count": 29,
      "outputs": []
    },
    {
      "cell_type": "code",
      "source": [
        "stdScaler = StandardScaler()\n",
        "stdScaler.fit(X)\n",
        "X = pd.DataFrame(stdScaler.transform(X), columns=X.columns)"
      ],
      "metadata": {
        "id": "JpZYDv6HYGjb"
      },
      "execution_count": 30,
      "outputs": []
    },
    {
      "cell_type": "code",
      "source": [
        "X_train, X_test, y_train, y_test = train_test_split(X, y, test_size=0.30, random_state=40)"
      ],
      "metadata": {
        "id": "l_0WXu88YM9F"
      },
      "execution_count": 31,
      "outputs": []
    },
    {
      "cell_type": "code",
      "source": [
        "models = {\n",
        "                \"Linear regression\": LinearRegression(),\n",
        "                 \"Ridge regression\": Ridge(),\n",
        "                 \"Lasso regression\": Lasso(),\n",
        "           \"Elastic Net regression\": ElasticNet(),\n",
        "   \"K-nearest Neighbors regression\": KNeighborsRegressor(),\n",
        "         \"Decision Tree regression\": DecisionTreeRegressor(),\n",
        "         \"Random Forest regression\": RandomForestRegressor()\n",
        "}"
      ],
      "metadata": {
        "id": "3GevxlyaYPMt"
      },
      "execution_count": 32,
      "outputs": []
    },
    {
      "cell_type": "code",
      "source": [
        "for name, model in models.items():\n",
        "    model.fit(X_train, y_train)\n",
        "    print(name + \" - Trained\")"
      ],
      "metadata": {
        "colab": {
          "base_uri": "https://localhost:8080/"
        },
        "id": "hPp2z6VEYUuT",
        "outputId": "ba3fe8cb-0294-48f4-d061-6c764fb0a4c8"
      },
      "execution_count": 33,
      "outputs": [
        {
          "output_type": "stream",
          "name": "stdout",
          "text": [
            "Linear regression - Trained\n",
            "Ridge regression - Trained\n",
            "Lasso regression - Trained\n",
            "Elastic Net regression - Trained\n",
            "K-nearest Neighbors regression - Trained\n",
            "Decision Tree regression - Trained\n",
            "Random Forest regression - Trained\n"
          ]
        }
      ]
    },
    {
      "cell_type": "code",
      "source": [
        "predictions = {}\n",
        "for name, model in models.items():\n",
        "    y_pred = model.predict(X_test)  \n",
        "    predictions[name] = y_pred"
      ],
      "metadata": {
        "id": "JSdPna0kYZYA"
      },
      "execution_count": 34,
      "outputs": []
    },
    {
      "cell_type": "code",
      "source": [
        "index = list(predictions.keys())[0]\n",
        "model_eval = pd.DataFrame(index=[index], columns=[\"r2 score\", \"RMSE\"])\n",
        "for key, value in predictions.items():\n",
        "    model_eval.loc[key, \"r2 score\"] = \"{:.8f}\".format(r2_score(y_test, value)) \n",
        "    model_eval.loc[key, \"RMSE\"] = \"{:.8f}\".format(np.sqrt(mean_squared_error(y_test, value)))\n",
        "model_eval.reset_index(inplace = True)"
      ],
      "metadata": {
        "id": "9raOCjHLYjRx"
      },
      "execution_count": 35,
      "outputs": []
    },
    {
      "cell_type": "code",
      "source": [
        "model_eval.style"
      ],
      "metadata": {
        "colab": {
          "base_uri": "https://localhost:8080/",
          "height": 269
        },
        "id": "KCtN77vHYlLN",
        "outputId": "7741fb4a-1f67-4dea-dd08-a7e26cbd42b3"
      },
      "execution_count": 36,
      "outputs": [
        {
          "output_type": "execute_result",
          "data": {
            "text/plain": [
              "<pandas.io.formats.style.Styler at 0x7fb05b674750>"
            ],
            "text/html": [
              "<style type=\"text/css\">\n",
              "</style>\n",
              "<table id=\"T_56a06_\" class=\"dataframe\">\n",
              "  <thead>\n",
              "    <tr>\n",
              "      <th class=\"blank level0\" >&nbsp;</th>\n",
              "      <th class=\"col_heading level0 col0\" >index</th>\n",
              "      <th class=\"col_heading level0 col1\" >r2 score</th>\n",
              "      <th class=\"col_heading level0 col2\" >RMSE</th>\n",
              "    </tr>\n",
              "  </thead>\n",
              "  <tbody>\n",
              "    <tr>\n",
              "      <th id=\"T_56a06_level0_row0\" class=\"row_heading level0 row0\" >0</th>\n",
              "      <td id=\"T_56a06_row0_col0\" class=\"data row0 col0\" >Linear regression</td>\n",
              "      <td id=\"T_56a06_row0_col1\" class=\"data row0 col1\" >0.99015374</td>\n",
              "      <td id=\"T_56a06_row0_col2\" class=\"data row0 col2\" >0.94981360</td>\n",
              "    </tr>\n",
              "    <tr>\n",
              "      <th id=\"T_56a06_level0_row1\" class=\"row_heading level0 row1\" >1</th>\n",
              "      <td id=\"T_56a06_row1_col0\" class=\"data row1 col0\" >Ridge regression</td>\n",
              "      <td id=\"T_56a06_row1_col1\" class=\"data row1 col1\" >0.99015376</td>\n",
              "      <td id=\"T_56a06_row1_col2\" class=\"data row1 col2\" >0.94981284</td>\n",
              "    </tr>\n",
              "    <tr>\n",
              "      <th id=\"T_56a06_level0_row2\" class=\"row_heading level0 row2\" >2</th>\n",
              "      <td id=\"T_56a06_row2_col0\" class=\"data row2 col0\" >Lasso regression</td>\n",
              "      <td id=\"T_56a06_row2_col1\" class=\"data row2 col1\" >0.97442249</td>\n",
              "      <td id=\"T_56a06_row2_col2\" class=\"data row2 col2\" >1.53084743</td>\n",
              "    </tr>\n",
              "    <tr>\n",
              "      <th id=\"T_56a06_level0_row3\" class=\"row_heading level0 row3\" >3</th>\n",
              "      <td id=\"T_56a06_row3_col0\" class=\"data row3 col0\" >Elastic Net regression</td>\n",
              "      <td id=\"T_56a06_row3_col1\" class=\"data row3 col1\" >0.86942549</td>\n",
              "      <td id=\"T_56a06_row3_col2\" class=\"data row3 col2\" >3.45885208</td>\n",
              "    </tr>\n",
              "    <tr>\n",
              "      <th id=\"T_56a06_level0_row4\" class=\"row_heading level0 row4\" >4</th>\n",
              "      <td id=\"T_56a06_row4_col0\" class=\"data row4 col0\" >K-nearest Neighbors regression</td>\n",
              "      <td id=\"T_56a06_row4_col1\" class=\"data row4 col1\" >0.99025145</td>\n",
              "      <td id=\"T_56a06_row4_col2\" class=\"data row4 col2\" >0.94508911</td>\n",
              "    </tr>\n",
              "    <tr>\n",
              "      <th id=\"T_56a06_level0_row5\" class=\"row_heading level0 row5\" >5</th>\n",
              "      <td id=\"T_56a06_row5_col0\" class=\"data row5 col0\" >Decision Tree regression</td>\n",
              "      <td id=\"T_56a06_row5_col1\" class=\"data row5 col1\" >0.99990410</td>\n",
              "      <td id=\"T_56a06_row5_col2\" class=\"data row5 col2\" >0.09373811</td>\n",
              "    </tr>\n",
              "    <tr>\n",
              "      <th id=\"T_56a06_level0_row6\" class=\"row_heading level0 row6\" >6</th>\n",
              "      <td id=\"T_56a06_row6_col0\" class=\"data row6 col0\" >Random Forest regression</td>\n",
              "      <td id=\"T_56a06_row6_col1\" class=\"data row6 col1\" >0.99996622</td>\n",
              "      <td id=\"T_56a06_row6_col2\" class=\"data row6 col2\" >0.05563458</td>\n",
              "    </tr>\n",
              "  </tbody>\n",
              "</table>\n"
            ]
          },
          "metadata": {},
          "execution_count": 36
        }
      ]
    },
    {
      "cell_type": "code",
      "source": [
        "max_val_score = {}"
      ],
      "metadata": {
        "id": "F8VppF04Yoid"
      },
      "execution_count": 37,
      "outputs": []
    },
    {
      "cell_type": "code",
      "source": [
        "lin_model_kfold = KFold(n_splits=5)\n",
        "\n",
        "print('-----Cross Validation Scores----')\n",
        "for name, model in models.items():\n",
        "    score = mean(cross_val_score(model, X, y, cv=lin_model_kfold))\n",
        "    print('{:s} model: {:.5f}'.format(name, score))\n",
        "    if not bool(max_val_score):\n",
        "        max_val_score['model'] = name\n",
        "        max_val_score['score'] = score\n",
        "    elif(max_val_score['score'] < score):\n",
        "        max_val_score['model'] = name\n",
        "        max_val_score['score'] = score\n",
        "print('\\n\\nThe final model that fits this regression problem best is the {:s} model with a score of {:.5f}'.format(max_val_score['model'], max_val_score['score'])) "
      ],
      "metadata": {
        "colab": {
          "base_uri": "https://localhost:8080/"
        },
        "id": "IGfDwhEjYsRN",
        "outputId": "b321b330-b766-4e29-f529-09eb510f7000"
      },
      "execution_count": 38,
      "outputs": [
        {
          "output_type": "stream",
          "name": "stdout",
          "text": [
            "-----Cross Validation Scores----\n",
            "Linear regression model: 0.98997\n",
            "Ridge regression model: 0.98997\n",
            "Lasso regression model: 0.97424\n",
            "Elastic Net regression model: 0.86931\n",
            "K-nearest Neighbors regression model: 0.97559\n",
            "Decision Tree regression model: 0.99982\n",
            "Random Forest regression model: 0.99987\n",
            "\n",
            "\n",
            "The final model that fits this regression problem best is the Random Forest regression model with a score of 0.99987\n"
          ]
        }
      ]
    }
  ]
}